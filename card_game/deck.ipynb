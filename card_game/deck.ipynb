{
 "cells": [
  {
   "cell_type": "code",
   "execution_count": 10,
   "metadata": {},
   "outputs": [
    {
     "name": "stdout",
     "output_type": "stream",
     "text": [
      "6 of Spades\n",
      "51\n"
     ]
    }
   ],
   "source": [
    "import random\n",
    "\n",
    "suits = [\"Spades\", \"Hearts\", \"Diamonds\", \"Clubs\"]\n",
    "faces = [\"Jack\", \"Queen\", \"King\", \"Ace\"]\n",
    "numbers = [2, 3, 4, 5, 6, 7, 8, 9, 10]\n",
    "cards = faces + numbers\n",
    "\n",
    "deck = []\n",
    "\n",
    "for s in suits:\n",
    "    for c in cards:\n",
    "        deck.append(f\"{c} of {s}\")\n",
    "\n",
    "\n",
    "def draw() -> str:\n",
    "    card = random.choice(deck)\n",
    "    deck.remove(card)\n",
    "    return card\n",
    "\n",
    "\n",
    "print(draw())\n",
    "print(len(deck))"
   ]
  },
  {
   "cell_type": "code",
   "execution_count": null,
   "metadata": {},
   "outputs": [],
   "source": []
  }
 ],
 "metadata": {
  "kernelspec": {
   "display_name": "cloud_dev_env",
   "language": "python",
   "name": "python3"
  },
  "language_info": {
   "codemirror_mode": {
    "name": "ipython",
    "version": 3
   },
   "file_extension": ".py",
   "mimetype": "text/x-python",
   "name": "python",
   "nbconvert_exporter": "python",
   "pygments_lexer": "ipython3",
   "version": "3.11.2"
  },
  "orig_nbformat": 4
 },
 "nbformat": 4,
 "nbformat_minor": 2
}
