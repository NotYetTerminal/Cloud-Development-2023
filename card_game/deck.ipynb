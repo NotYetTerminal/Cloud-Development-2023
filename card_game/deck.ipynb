{
 "cells": [
  {
   "cell_type": "code",
   "execution_count": 4,
   "metadata": {},
   "outputs": [],
   "source": [
    "import random\n",
    "\n",
    "suits = [\"Spades\", \"Hearts\", \"Diamonds\", \"Clubs\"]\n",
    "faces = [\"Jack\", \"Queen\", \"King\", \"Ace\"]\n",
    "numbers = [2, 3, 4, 5, 6, 7, 8, 9, 10]\n",
    "cards = faces + numbers\n",
    "\n",
    "\n",
    "def make_deck() -> list:\n",
    "    deck = []\n",
    "\n",
    "    for s in suits:\n",
    "        for c in cards:\n",
    "            deck.append(f\"{c} of {s}\")\n",
    "    \n",
    "    return deck\n",
    "\n",
    "\n",
    "def draw() -> str:\n",
    "    card = random.choice(deck)\n",
    "    deck.remove(card)\n",
    "    return card\n",
    "\n"
   ]
  },
  {
   "cell_type": "code",
   "execution_count": 9,
   "metadata": {},
   "outputs": [
    {
     "name": "stdout",
     "output_type": "stream",
     "text": [
      "52\n"
     ]
    }
   ],
   "source": [
    "deck = make_deck()\n",
    "print(len(deck))"
   ]
  },
  {
   "cell_type": "code",
   "execution_count": 11,
   "metadata": {},
   "outputs": [],
   "source": [
    "face_values: dict = {\"Jack\": 11,\n",
    "                     \"Queen\": 12,\n",
    "                     \"King\": 13,\n",
    "                     \"Ace\": 14}"
   ]
  },
  {
   "cell_type": "code",
   "execution_count": 12,
   "metadata": {},
   "outputs": [],
   "source": [
    "hand: list = [4, 7, \"Jack\"]"
   ]
  },
  {
   "cell_type": "code",
   "execution_count": 13,
   "metadata": {},
   "outputs": [
    {
     "name": "stdout",
     "output_type": "stream",
     "text": [
      "22\n"
     ]
    }
   ],
   "source": [
    "total = 0\n",
    "\n",
    "for h in hand:\n",
    "    if h in face_values:\n",
    "        total += face_values[h]\n",
    "    else:\n",
    "        total += h\n",
    "\n",
    "print(total)"
   ]
  },
  {
   "cell_type": "code",
   "execution_count": null,
   "metadata": {},
   "outputs": [],
   "source": []
  }
 ],
 "metadata": {
  "kernelspec": {
   "display_name": "cloud_dev_env",
   "language": "python",
   "name": "python3"
  },
  "language_info": {
   "codemirror_mode": {
    "name": "ipython",
    "version": 3
   },
   "file_extension": ".py",
   "mimetype": "text/x-python",
   "name": "python",
   "nbconvert_exporter": "python",
   "pygments_lexer": "ipython3",
   "version": "3.11.2"
  },
  "orig_nbformat": 4
 },
 "nbformat": 4,
 "nbformat_minor": 2
}
