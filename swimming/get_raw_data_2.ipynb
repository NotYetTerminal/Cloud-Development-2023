{
 "cells": [
  {
   "cell_type": "code",
   "execution_count": 4,
   "metadata": {},
   "outputs": [
    {
     "name": "stdout",
     "output_type": "stream",
     "text": [
      "Darius 13 100m Fly\n"
     ]
    }
   ],
   "source": [
    "file_name: str = \"Darius-13-100m-Fly.txt\"\n",
    "name, age, distance, stroke = file_name.removesuffix(\".txt\").split(\"-\")\n",
    "\n",
    "print(name, age, distance, stroke)"
   ]
  },
  {
   "cell_type": "code",
   "execution_count": 5,
   "metadata": {},
   "outputs": [
    {
     "name": "stdout",
     "output_type": "stream",
     "text": [
      "1:27.95,1:21.07,1:30.96,1:23.22,1:27.95,1:28.30\n",
      "\n"
     ]
    }
   ],
   "source": [
    "FOLDER: str = \"swimdata/\"\n",
    "\n",
    "with open(FOLDER + file_name, \"r\") as f:\n",
    "    data: str = f.read()\n",
    "\n",
    "print(data)"
   ]
  },
  {
   "cell_type": "code",
   "execution_count": 6,
   "metadata": {},
   "outputs": [
    {
     "name": "stdout",
     "output_type": "stream",
     "text": [
      "['1:27.95', '1:21.07', '1:30.96', '1:23.22', '1:27.95', '1:28.30']\n"
     ]
    }
   ],
   "source": [
    "times = data.strip().split(\",\")\n",
    "print(times)"
   ]
  },
  {
   "cell_type": "code",
   "execution_count": 7,
   "metadata": {},
   "outputs": [],
   "source": [
    "def convert_2_hundreths(time: str) -> int:\n",
    "    \"\"\"Given a string which represents a time this function converts the string\n",
    "    to a number (int) representing the string's hundreths of seconds value, which is\n",
    "    returned.\n",
    "    \"\"\"\n",
    "    minutes, rest = time.split(\":\")\n",
    "    seconds, hundreths = rest.split(\".\")\n",
    "    return int(hundreths) + (int(seconds) * 100) + (int(minutes) * 60 * 100)"
   ]
  },
  {
   "cell_type": "code",
   "execution_count": 8,
   "metadata": {},
   "outputs": [
    {
     "name": "stdout",
     "output_type": "stream",
     "text": [
      "1:27.95 -> 8795\n",
      "1:21.07 -> 8107\n",
      "1:30.96 -> 9096\n",
      "1:23.22 -> 8322\n",
      "1:27.95 -> 8795\n",
      "1:28.30 -> 8830\n"
     ]
    }
   ],
   "source": [
    "for t in times:\n",
    "    print(f\"{t} -> {convert_2_hundreths(t)}\")"
   ]
  },
  {
   "cell_type": "code",
   "execution_count": 9,
   "metadata": {},
   "outputs": [
    {
     "name": "stdout",
     "output_type": "stream",
     "text": [
      "8657.5\n"
     ]
    }
   ],
   "source": [
    "average: float = 0\n",
    "for t in times:\n",
    "    average += convert_2_hundreths(t)\n",
    "\n",
    "print(average / len(times))"
   ]
  },
  {
   "cell_type": "code",
   "execution_count": 10,
   "metadata": {},
   "outputs": [],
   "source": [
    "from statistics import mean"
   ]
  },
  {
   "cell_type": "code",
   "execution_count": 11,
   "metadata": {},
   "outputs": [
    {
     "name": "stdout",
     "output_type": "stream",
     "text": [
      "8657.5\n"
     ]
    }
   ],
   "source": [
    "print(mean([convert_2_hundreths(x) for x in times]))"
   ]
  },
  {
   "cell_type": "code",
   "execution_count": 12,
   "metadata": {},
   "outputs": [
    {
     "name": "stdout",
     "output_type": "stream",
     "text": [
      "8657.5\n"
     ]
    }
   ],
   "source": [
    "converts: list = []\n",
    "for t in times:\n",
    "    converts.append(convert_2_hundreths(t))\n",
    "print(mean(converts))"
   ]
  },
  {
   "cell_type": "code",
   "execution_count": 26,
   "metadata": {},
   "outputs": [],
   "source": [
    "average: float = mean(converts)"
   ]
  },
  {
   "cell_type": "code",
   "execution_count": 27,
   "metadata": {},
   "outputs": [
    {
     "name": "stdout",
     "output_type": "stream",
     "text": [
      "86.58\n"
     ]
    }
   ],
   "source": [
    "print(round(average / 100, 2))"
   ]
  },
  {
   "cell_type": "code",
   "execution_count": 28,
   "metadata": {},
   "outputs": [],
   "source": [
    "seconds, hundreths = str(round(average / 100, 2)) .split(\".\")"
   ]
  },
  {
   "cell_type": "code",
   "execution_count": 29,
   "metadata": {},
   "outputs": [],
   "source": [
    "minutes: int = int(seconds) // 60"
   ]
  },
  {
   "cell_type": "code",
   "execution_count": 30,
   "metadata": {},
   "outputs": [],
   "source": [
    "seconds = int(seconds) % 60"
   ]
  },
  {
   "cell_type": "code",
   "execution_count": 31,
   "metadata": {},
   "outputs": [
    {
     "name": "stdout",
     "output_type": "stream",
     "text": [
      "1 26 58\n"
     ]
    }
   ],
   "source": [
    "print(minutes, seconds, hundreths)"
   ]
  },
  {
   "cell_type": "code",
   "execution_count": 35,
   "metadata": {},
   "outputs": [
    {
     "name": "stdout",
     "output_type": "stream",
     "text": [
      "1:26.58\n"
     ]
    }
   ],
   "source": [
    "print(f\"{minutes}:{seconds}.{hundreths}\")"
   ]
  },
  {
   "cell_type": "code",
   "execution_count": 36,
   "metadata": {},
   "outputs": [],
   "source": [
    "average: float = mean(converts)"
   ]
  },
  {
   "cell_type": "code",
   "execution_count": 78,
   "metadata": {},
   "outputs": [],
   "source": [
    "def build_time_string(num_time: float) -> str:\n",
    "    seconds, hundreths = f\"{(num_time / 100):.2f}\".split(\".\")\n",
    "    minutes: int = int(seconds) // 60\n",
    "    seconds = int(seconds) % 60\n",
    "    return f\"{minutes}:{seconds}.{hundreths}\""
   ]
  },
  {
   "cell_type": "code",
   "execution_count": 79,
   "metadata": {},
   "outputs": [
    {
     "name": "stdout",
     "output_type": "stream",
     "text": [
      "1:26.58\n"
     ]
    }
   ],
   "source": [
    "print(build_time_string(average))"
   ]
  },
  {
   "cell_type": "code",
   "execution_count": 80,
   "metadata": {},
   "outputs": [
    {
     "name": "stdout",
     "output_type": "stream",
     "text": [
      "8795 -> 1:27.95\n",
      "8107 -> 1:21.07\n",
      "9096 -> 1:30.96\n",
      "8322 -> 1:23.22\n",
      "8795 -> 1:27.95\n",
      "8830 -> 1:28.30\n"
     ]
    }
   ],
   "source": [
    "for num in converts:\n",
    "    print(num, \"->\", build_time_string(num))"
   ]
  },
  {
   "cell_type": "code",
   "execution_count": null,
   "metadata": {},
   "outputs": [],
   "source": []
  }
 ],
 "metadata": {
  "kernelspec": {
   "display_name": "cloud_dev_env",
   "language": "python",
   "name": "python3"
  },
  "language_info": {
   "codemirror_mode": {
    "name": "ipython",
    "version": 3
   },
   "file_extension": ".py",
   "mimetype": "text/x-python",
   "name": "python",
   "nbconvert_exporter": "python",
   "pygments_lexer": "ipython3",
   "version": "3.11.2"
  },
  "orig_nbformat": 4
 },
 "nbformat": 4,
 "nbformat_minor": 2
}
