{
 "cells": [
  {
   "cell_type": "code",
   "execution_count": 1,
   "metadata": {},
   "outputs": [],
   "source": [
    "import swim_utils"
   ]
  },
  {
   "cell_type": "code",
   "execution_count": 2,
   "metadata": {},
   "outputs": [],
   "source": [
    "filename = \"Darius-13-100m-Fly.txt\""
   ]
  },
  {
   "cell_type": "code",
   "execution_count": 3,
   "metadata": {},
   "outputs": [
    {
     "ename": "AttributeError",
     "evalue": "module 'swim_utils' has no attribute 'get_swimmers_data'",
     "output_type": "error",
     "traceback": [
      "\u001b[0;31m---------------------------------------------------------------------------\u001b[0m",
      "\u001b[0;31mAttributeError\u001b[0m                            Traceback (most recent call last)",
      "\u001b[1;32m/home/gabor/Documents/GitHub/Cloud-Development-2023/swimming/Chart.ipynb Cell 3\u001b[0m line \u001b[0;36m1\n\u001b[0;32m----> <a href='vscode-notebook-cell:/home/gabor/Documents/GitHub/Cloud-Development-2023/swimming/Chart.ipynb#W2sZmlsZQ%3D%3D?line=0'>1</a>\u001b[0m swim_utils\u001b[39m.\u001b[39;49mget_swimmers_data(filename)\n",
      "\u001b[0;31mAttributeError\u001b[0m: module 'swim_utils' has no attribute 'get_swimmers_data'"
     ]
    }
   ],
   "source": [
    "swim_utils.get_swimmers_data(filename)"
   ]
  },
  {
   "cell_type": "code",
   "execution_count": 4,
   "metadata": {},
   "outputs": [],
   "source": [
    "import os"
   ]
  },
  {
   "cell_type": "code",
   "execution_count": 5,
   "metadata": {},
   "outputs": [
    {
     "data": {
      "text/plain": [
       "['Darius-13-200m-IM.txt',\n",
       " 'Bill-18-200m-Back.txt',\n",
       " 'Hannah-13-100m-Back.txt',\n",
       " 'Darius-13-100m-Fly.txt',\n",
       " 'Mike-15-100m-Back.txt',\n",
       " 'Darius-13-100m-Back.txt',\n",
       " 'Calvin-9-50m-Free.txt',\n",
       " 'Dave-17-200m-Back.txt',\n",
       " 'Ali-12-100m-Back.txt',\n",
       " 'Ruth-13-400m-Free.txt',\n",
       " 'Hannah-13-100m-Free.txt',\n",
       " 'Elba-14-100m-Free.txt',\n",
       " 'Ruth-13-200m-Free.txt',\n",
       " 'Abi-10-100m-Breast.txt',\n",
       " 'Alison-14-100m-Breast.txt',\n",
       " 'Bill-18-100m-Back.txt',\n",
       " 'Blake-15-100m-Back.txt',\n",
       " 'Blake-15-100m-Free.txt',\n",
       " 'Chris-17-100m-Back.txt',\n",
       " 'Chris-17-100m-Breast.txt',\n",
       " 'Katie-9-50m-Breast.txt',\n",
       " 'Erika-15-200m-Breast.txt',\n",
       " 'Ali-12-100m-Free.txt',\n",
       " 'Alison-14-100m-Free.txt',\n",
       " 'Emma-13-100m-Free.txt',\n",
       " 'Mike-15-100m-Free.txt',\n",
       " 'Maria-9-50m-Free.txt',\n",
       " 'Tasmin-15-100m-Breast.txt',\n",
       " 'Katie-9-100m-Back.txt',\n",
       " 'Katie-9-100m-Free.txt',\n",
       " 'Katie-9-50m-Fly.txt',\n",
       " 'Calvin-9-50m-Fly.txt',\n",
       " 'Abi-10-50m-Breast.txt',\n",
       " 'Mike-15-200m-IM.txt',\n",
       " 'Mike-15-200m-Free.txt',\n",
       " 'Ruth-13-200m-Back.txt',\n",
       " 'Calvin-9-50m-Back.txt',\n",
       " 'Tasmin-15-100m-Free.txt',\n",
       " 'Ruth-13-100m-Back.txt',\n",
       " 'Abi-10-100m-Back.txt',\n",
       " 'Erika-15-100m-Breast.txt',\n",
       " 'Abi-10-50m-Back.txt',\n",
       " '.DS_Store',\n",
       " 'Lizzie-14-100m-Back.txt',\n",
       " 'Katie-9-50m-Back.txt',\n",
       " 'Dave-17-100m-Free.txt',\n",
       " 'Katie-9-50m-Free.txt',\n",
       " 'Lizzie-14-100m-Free.txt',\n",
       " 'Abi-10-50m-Free.txt',\n",
       " 'Carl-15-100m-Back.txt',\n",
       " 'Katie-9-100m-Breast.txt',\n",
       " 'Owen-15-100m-Free.txt',\n",
       " 'Mike-15-100m-Fly.txt',\n",
       " 'Tasmin-15-200m-Breast.txt',\n",
       " 'Blake-15-100m-Fly.txt',\n",
       " 'Tasmin-15-100m-Back.txt',\n",
       " 'Aurora-13-50m-Free.txt',\n",
       " 'Ruth-13-100m-Free.txt',\n",
       " 'Darius-13-100m-Breast.txt',\n",
       " 'Emma-13-100m-Breast.txt',\n",
       " 'Erika-15-100m-Free.txt']"
      ]
     },
     "execution_count": 5,
     "metadata": {},
     "output_type": "execute_result"
    }
   ],
   "source": [
    "os.listdir(swim_utils.FOLDER)"
   ]
  },
  {
   "cell_type": "code",
   "execution_count": 6,
   "metadata": {},
   "outputs": [],
   "source": [
    "files = os.listdir(swim_utils.FOLDER)"
   ]
  },
  {
   "cell_type": "code",
   "execution_count": 7,
   "metadata": {},
   "outputs": [
    {
     "data": {
      "text/plain": [
       "61"
      ]
     },
     "execution_count": 7,
     "metadata": {},
     "output_type": "execute_result"
    }
   ],
   "source": [
    "len(files)"
   ]
  },
  {
   "cell_type": "code",
   "execution_count": 8,
   "metadata": {},
   "outputs": [
    {
     "data": {
      "text/plain": [
       "['Darius-13-200m-IM.txt',\n",
       " 'Bill-18-200m-Back.txt',\n",
       " 'Hannah-13-100m-Back.txt',\n",
       " 'Darius-13-100m-Fly.txt',\n",
       " 'Mike-15-100m-Back.txt',\n",
       " 'Darius-13-100m-Back.txt',\n",
       " 'Calvin-9-50m-Free.txt',\n",
       " 'Dave-17-200m-Back.txt',\n",
       " 'Ali-12-100m-Back.txt',\n",
       " 'Ruth-13-400m-Free.txt']"
      ]
     },
     "execution_count": 8,
     "metadata": {},
     "output_type": "execute_result"
    }
   ],
   "source": [
    "files[:10]"
   ]
  },
  {
   "cell_type": "code",
   "execution_count": 9,
   "metadata": {},
   "outputs": [
    {
     "data": {
      "text/plain": [
       "'Ruth-13-400m-Free.txt'"
      ]
     },
     "execution_count": 9,
     "metadata": {},
     "output_type": "execute_result"
    }
   ],
   "source": [
    "files[9]"
   ]
  },
  {
   "cell_type": "code",
   "execution_count": 10,
   "metadata": {},
   "outputs": [
    {
     "name": "stdout",
     "output_type": "stream",
     "text": [
      "Help on built-in function remove:\n",
      "\n",
      "remove(value, /) method of builtins.list instance\n",
      "    Remove first occurrence of value.\n",
      "    \n",
      "    Raises ValueError if the value is not present.\n",
      "\n"
     ]
    }
   ],
   "source": [
    "help(files.remove)"
   ]
  },
  {
   "cell_type": "code",
   "execution_count": 11,
   "metadata": {},
   "outputs": [
    {
     "data": {
      "text/plain": [
       "61"
      ]
     },
     "execution_count": 11,
     "metadata": {},
     "output_type": "execute_result"
    }
   ],
   "source": [
    "len(files)"
   ]
  },
  {
   "cell_type": "code",
   "execution_count": 12,
   "metadata": {},
   "outputs": [],
   "source": [
    "files.remove('.DS_Store')"
   ]
  },
  {
   "cell_type": "code",
   "execution_count": 13,
   "metadata": {},
   "outputs": [
    {
     "data": {
      "text/plain": [
       "60"
      ]
     },
     "execution_count": 13,
     "metadata": {},
     "output_type": "execute_result"
    }
   ],
   "source": [
    "len(files)"
   ]
  },
  {
   "cell_type": "code",
   "execution_count": 14,
   "metadata": {},
   "outputs": [
    {
     "data": {
      "text/plain": [
       "['Darius-13-200m-IM.txt',\n",
       " 'Bill-18-200m-Back.txt',\n",
       " 'Hannah-13-100m-Back.txt',\n",
       " 'Darius-13-100m-Fly.txt',\n",
       " 'Mike-15-100m-Back.txt',\n",
       " 'Darius-13-100m-Back.txt',\n",
       " 'Calvin-9-50m-Free.txt',\n",
       " 'Dave-17-200m-Back.txt',\n",
       " 'Ali-12-100m-Back.txt',\n",
       " 'Ruth-13-400m-Free.txt',\n",
       " 'Hannah-13-100m-Free.txt',\n",
       " 'Elba-14-100m-Free.txt',\n",
       " 'Ruth-13-200m-Free.txt',\n",
       " 'Abi-10-100m-Breast.txt',\n",
       " 'Alison-14-100m-Breast.txt',\n",
       " 'Bill-18-100m-Back.txt',\n",
       " 'Blake-15-100m-Back.txt',\n",
       " 'Blake-15-100m-Free.txt',\n",
       " 'Chris-17-100m-Back.txt',\n",
       " 'Chris-17-100m-Breast.txt']"
      ]
     },
     "execution_count": 14,
     "metadata": {},
     "output_type": "execute_result"
    }
   ],
   "source": [
    "files[:20]"
   ]
  },
  {
   "cell_type": "code",
   "execution_count": 15,
   "metadata": {},
   "outputs": [
    {
     "name": "stdout",
     "output_type": "stream",
     "text": [
      "['Abi-10-100m-Back.txt', 'Abi-10-100m-Breast.txt', 'Abi-10-50m-Back.txt', 'Abi-10-50m-Breast.txt', 'Abi-10-50m-Free.txt', 'Ali-12-100m-Back.txt', 'Ali-12-100m-Free.txt', 'Alison-14-100m-Breast.txt', 'Alison-14-100m-Free.txt', 'Aurora-13-50m-Free.txt', 'Bill-18-100m-Back.txt', 'Bill-18-200m-Back.txt', 'Blake-15-100m-Back.txt', 'Blake-15-100m-Fly.txt', 'Blake-15-100m-Free.txt', 'Calvin-9-50m-Back.txt', 'Calvin-9-50m-Fly.txt', 'Calvin-9-50m-Free.txt', 'Carl-15-100m-Back.txt', 'Chris-17-100m-Back.txt', 'Chris-17-100m-Breast.txt', 'Darius-13-100m-Back.txt', 'Darius-13-100m-Breast.txt', 'Darius-13-100m-Fly.txt', 'Darius-13-200m-IM.txt', 'Dave-17-100m-Free.txt', 'Dave-17-200m-Back.txt', 'Elba-14-100m-Free.txt', 'Emma-13-100m-Breast.txt', 'Emma-13-100m-Free.txt', 'Erika-15-100m-Breast.txt', 'Erika-15-100m-Free.txt', 'Erika-15-200m-Breast.txt', 'Hannah-13-100m-Back.txt', 'Hannah-13-100m-Free.txt', 'Katie-9-100m-Back.txt', 'Katie-9-100m-Breast.txt', 'Katie-9-100m-Free.txt', 'Katie-9-50m-Back.txt', 'Katie-9-50m-Breast.txt', 'Katie-9-50m-Fly.txt', 'Katie-9-50m-Free.txt', 'Lizzie-14-100m-Back.txt', 'Lizzie-14-100m-Free.txt', 'Maria-9-50m-Free.txt', 'Mike-15-100m-Back.txt', 'Mike-15-100m-Fly.txt', 'Mike-15-100m-Free.txt', 'Mike-15-200m-Free.txt', 'Mike-15-200m-IM.txt', 'Owen-15-100m-Free.txt', 'Ruth-13-100m-Back.txt', 'Ruth-13-100m-Free.txt', 'Ruth-13-200m-Back.txt', 'Ruth-13-200m-Free.txt', 'Ruth-13-400m-Free.txt', 'Tasmin-15-100m-Back.txt', 'Tasmin-15-100m-Breast.txt', 'Tasmin-15-100m-Free.txt', 'Tasmin-15-200m-Breast.txt']\n"
     ]
    }
   ],
   "source": [
    "print(sorted(files))"
   ]
  },
  {
   "cell_type": "code",
   "execution_count": 16,
   "metadata": {},
   "outputs": [
    {
     "ename": "AttributeError",
     "evalue": "module 'swim_utils' has no attribute 'get_swimmers_data'",
     "output_type": "error",
     "traceback": [
      "\u001b[0;31m---------------------------------------------------------------------------\u001b[0m",
      "\u001b[0;31mAttributeError\u001b[0m                            Traceback (most recent call last)",
      "\u001b[1;32m/home/gabor/Documents/GitHub/Cloud-Development-2023/swimming/Chart.ipynb Cell 16\u001b[0m line \u001b[0;36m1\n\u001b[0;32m----> <a href='vscode-notebook-cell:/home/gabor/Documents/GitHub/Cloud-Development-2023/swimming/Chart.ipynb#X21sZmlsZQ%3D%3D?line=0'>1</a>\u001b[0m swim_utils\u001b[39m.\u001b[39;49mget_swimmers_data(\u001b[39m'\u001b[39m\u001b[39mHannah-13-100m-Back.txt\u001b[39m\u001b[39m'\u001b[39m)\n",
      "\u001b[0;31mAttributeError\u001b[0m: module 'swim_utils' has no attribute 'get_swimmers_data'"
     ]
    }
   ],
   "source": [
    "swim_utils.get_swimmers_data('Hannah-13-100m-Back.txt')"
   ]
  },
  {
   "cell_type": "code",
   "execution_count": 17,
   "metadata": {},
   "outputs": [
    {
     "ename": "AttributeError",
     "evalue": "module 'swim_utils' has no attribute 'get_swimmers_data'",
     "output_type": "error",
     "traceback": [
      "\u001b[0;31m---------------------------------------------------------------------------\u001b[0m",
      "\u001b[0;31mAttributeError\u001b[0m                            Traceback (most recent call last)",
      "\u001b[1;32m/home/gabor/Documents/GitHub/Cloud-Development-2023/swimming/Chart.ipynb Cell 17\u001b[0m line \u001b[0;36m2\n\u001b[1;32m      <a href='vscode-notebook-cell:/home/gabor/Documents/GitHub/Cloud-Development-2023/swimming/Chart.ipynb#X22sZmlsZQ%3D%3D?line=0'>1</a>\u001b[0m \u001b[39mfor\u001b[39;00m swimmer \u001b[39min\u001b[39;00m \u001b[39msorted\u001b[39m(files):\n\u001b[0;32m----> <a href='vscode-notebook-cell:/home/gabor/Documents/GitHub/Cloud-Development-2023/swimming/Chart.ipynb#X22sZmlsZQ%3D%3D?line=1'>2</a>\u001b[0m     \u001b[39mprint\u001b[39m(swim_utils\u001b[39m.\u001b[39;49mget_swimmers_data(swimmer))\n\u001b[1;32m      <a href='vscode-notebook-cell:/home/gabor/Documents/GitHub/Cloud-Development-2023/swimming/Chart.ipynb#X22sZmlsZQ%3D%3D?line=2'>3</a>\u001b[0m     \u001b[39mprint\u001b[39m(\u001b[39m\"\u001b[39m\u001b[39m-\u001b[39m\u001b[39m\"\u001b[39m \u001b[39m*\u001b[39m \u001b[39m60\u001b[39m)\n",
      "\u001b[0;31mAttributeError\u001b[0m: module 'swim_utils' has no attribute 'get_swimmers_data'"
     ]
    }
   ],
   "source": [
    "for swimmer in sorted(files):\n",
    "    print(swim_utils.get_swimmers_data(swimmer))\n",
    "    print(\"-\" * 60)"
   ]
  },
  {
   "cell_type": "code",
   "execution_count": 18,
   "metadata": {},
   "outputs": [
    {
     "ename": "AttributeError",
     "evalue": "module 'swim_utils' has no attribute 'get_swimmers_data'",
     "output_type": "error",
     "traceback": [
      "\u001b[0;31m---------------------------------------------------------------------------\u001b[0m",
      "\u001b[0;31mAttributeError\u001b[0m                            Traceback (most recent call last)",
      "\u001b[1;32m/home/gabor/Documents/GitHub/Cloud-Development-2023/swimming/Chart.ipynb Cell 18\u001b[0m line \u001b[0;36m4\n\u001b[1;32m      <a href='vscode-notebook-cell:/home/gabor/Documents/GitHub/Cloud-Development-2023/swimming/Chart.ipynb#X23sZmlsZQ%3D%3D?line=0'>1</a>\u001b[0m names \u001b[39m=\u001b[39m \u001b[39mset\u001b[39m()  \u001b[39m# sets do not allow duplicates: this one starts out empty.\u001b[39;00m\n\u001b[1;32m      <a href='vscode-notebook-cell:/home/gabor/Documents/GitHub/Cloud-Development-2023/swimming/Chart.ipynb#X23sZmlsZQ%3D%3D?line=2'>3</a>\u001b[0m \u001b[39mfor\u001b[39;00m swimmer \u001b[39min\u001b[39;00m files:\n\u001b[0;32m----> <a href='vscode-notebook-cell:/home/gabor/Documents/GitHub/Cloud-Development-2023/swimming/Chart.ipynb#X23sZmlsZQ%3D%3D?line=3'>4</a>\u001b[0m     data \u001b[39m=\u001b[39m swim_utils\u001b[39m.\u001b[39;49mget_swimmers_data(swimmer)  \u001b[39m# data is assigned a tuple (which understand []).\u001b[39;00m\n\u001b[1;32m      <a href='vscode-notebook-cell:/home/gabor/Documents/GitHub/Cloud-Development-2023/swimming/Chart.ipynb#X23sZmlsZQ%3D%3D?line=4'>5</a>\u001b[0m     names\u001b[39m.\u001b[39madd(data[\u001b[39m0\u001b[39m])   \u001b[39m# grab the first item from the tuple.\u001b[39;00m\n",
      "\u001b[0;31mAttributeError\u001b[0m: module 'swim_utils' has no attribute 'get_swimmers_data'"
     ]
    }
   ],
   "source": [
    "names = set()  # sets do not allow duplicates: this one starts out empty.\n",
    "\n",
    "for swimmer in files:\n",
    "    data = swim_utils.get_swimmers_data(swimmer)  # data is assigned a tuple (which understand []).\n",
    "    names.add(data[0])   # grab the first item from the tuple."
   ]
  },
  {
   "cell_type": "code",
   "execution_count": 19,
   "metadata": {},
   "outputs": [
    {
     "data": {
      "text/plain": [
       "60"
      ]
     },
     "execution_count": 19,
     "metadata": {},
     "output_type": "execute_result"
    }
   ],
   "source": [
    "len(files)"
   ]
  },
  {
   "cell_type": "code",
   "execution_count": 20,
   "metadata": {},
   "outputs": [
    {
     "data": {
      "text/plain": [
       "0"
      ]
     },
     "execution_count": 20,
     "metadata": {},
     "output_type": "execute_result"
    }
   ],
   "source": [
    "len(names)"
   ]
  },
  {
   "cell_type": "code",
   "execution_count": 21,
   "metadata": {},
   "outputs": [
    {
     "name": "stdout",
     "output_type": "stream",
     "text": [
      "set()\n"
     ]
    }
   ],
   "source": [
    "print(names)  # displays a set of unique names from the data in the files list."
   ]
  },
  {
   "cell_type": "code",
   "execution_count": 22,
   "metadata": {},
   "outputs": [
    {
     "name": "stdout",
     "output_type": "stream",
     "text": [
      "[]\n"
     ]
    }
   ],
   "source": [
    "print(sorted(names))   # displays a sorted list of unique names."
   ]
  },
  {
   "cell_type": "code",
   "execution_count": 23,
   "metadata": {},
   "outputs": [
    {
     "ename": "NameError",
     "evalue": "name 'data' is not defined",
     "output_type": "error",
     "traceback": [
      "\u001b[0;31m---------------------------------------------------------------------------\u001b[0m",
      "\u001b[0;31mNameError\u001b[0m                                 Traceback (most recent call last)",
      "\u001b[1;32m/home/gabor/Documents/GitHub/Cloud-Development-2023/swimming/Chart.ipynb Cell 23\u001b[0m line \u001b[0;36m1\n\u001b[0;32m----> <a href='vscode-notebook-cell:/home/gabor/Documents/GitHub/Cloud-Development-2023/swimming/Chart.ipynb#X31sZmlsZQ%3D%3D?line=0'>1</a>\u001b[0m data\n",
      "\u001b[0;31mNameError\u001b[0m: name 'data' is not defined"
     ]
    }
   ],
   "source": [
    "data"
   ]
  },
  {
   "cell_type": "code",
   "execution_count": 24,
   "metadata": {},
   "outputs": [
    {
     "ename": "NameError",
     "evalue": "name 'data' is not defined",
     "output_type": "error",
     "traceback": [
      "\u001b[0;31m---------------------------------------------------------------------------\u001b[0m",
      "\u001b[0;31mNameError\u001b[0m                                 Traceback (most recent call last)",
      "\u001b[1;32m/home/gabor/Documents/GitHub/Cloud-Development-2023/swimming/Chart.ipynb Cell 24\u001b[0m line \u001b[0;36m1\n\u001b[0;32m----> <a href='vscode-notebook-cell:/home/gabor/Documents/GitHub/Cloud-Development-2023/swimming/Chart.ipynb#X32sZmlsZQ%3D%3D?line=0'>1</a>\u001b[0m name, age, distance, stroke, times, hundredths, average \u001b[39m=\u001b[39m data\n",
      "\u001b[0;31mNameError\u001b[0m: name 'data' is not defined"
     ]
    }
   ],
   "source": [
    "name, age, distance, stroke, times, hundredths, average = data"
   ]
  },
  {
   "cell_type": "code",
   "execution_count": 25,
   "metadata": {},
   "outputs": [
    {
     "ename": "NameError",
     "evalue": "name 'name' is not defined",
     "output_type": "error",
     "traceback": [
      "\u001b[0;31m---------------------------------------------------------------------------\u001b[0m",
      "\u001b[0;31mNameError\u001b[0m                                 Traceback (most recent call last)",
      "\u001b[1;32m/home/gabor/Documents/GitHub/Cloud-Development-2023/swimming/Chart.ipynb Cell 25\u001b[0m line \u001b[0;36m1\n\u001b[0;32m----> <a href='vscode-notebook-cell:/home/gabor/Documents/GitHub/Cloud-Development-2023/swimming/Chart.ipynb#X33sZmlsZQ%3D%3D?line=0'>1</a>\u001b[0m name\n",
      "\u001b[0;31mNameError\u001b[0m: name 'name' is not defined"
     ]
    }
   ],
   "source": [
    "name"
   ]
  },
  {
   "cell_type": "code",
   "execution_count": 26,
   "metadata": {},
   "outputs": [
    {
     "ename": "NameError",
     "evalue": "name 'times' is not defined",
     "output_type": "error",
     "traceback": [
      "\u001b[0;31m---------------------------------------------------------------------------\u001b[0m",
      "\u001b[0;31mNameError\u001b[0m                                 Traceback (most recent call last)",
      "\u001b[1;32m/home/gabor/Documents/GitHub/Cloud-Development-2023/swimming/Chart.ipynb Cell 26\u001b[0m line \u001b[0;36m1\n\u001b[0;32m----> <a href='vscode-notebook-cell:/home/gabor/Documents/GitHub/Cloud-Development-2023/swimming/Chart.ipynb#X34sZmlsZQ%3D%3D?line=0'>1</a>\u001b[0m times\n",
      "\u001b[0;31mNameError\u001b[0m: name 'times' is not defined"
     ]
    }
   ],
   "source": [
    "times"
   ]
  },
  {
   "cell_type": "code",
   "execution_count": 27,
   "metadata": {},
   "outputs": [
    {
     "ename": "NameError",
     "evalue": "name 'hundredths' is not defined",
     "output_type": "error",
     "traceback": [
      "\u001b[0;31m---------------------------------------------------------------------------\u001b[0m",
      "\u001b[0;31mNameError\u001b[0m                                 Traceback (most recent call last)",
      "\u001b[1;32m/home/gabor/Documents/GitHub/Cloud-Development-2023/swimming/Chart.ipynb Cell 27\u001b[0m line \u001b[0;36m1\n\u001b[0;32m----> <a href='vscode-notebook-cell:/home/gabor/Documents/GitHub/Cloud-Development-2023/swimming/Chart.ipynb#X35sZmlsZQ%3D%3D?line=0'>1</a>\u001b[0m hundredths   \u001b[39m# how do we turn this data into a bar chart?\u001b[39;00m\n",
      "\u001b[0;31mNameError\u001b[0m: name 'hundredths' is not defined"
     ]
    }
   ],
   "source": [
    "hundredths   # how do we turn this data into a bar chart?"
   ]
  },
  {
   "cell_type": "code",
   "execution_count": 28,
   "metadata": {},
   "outputs": [
    {
     "ename": "NameError",
     "evalue": "name 'name' is not defined",
     "output_type": "error",
     "traceback": [
      "\u001b[0;31m---------------------------------------------------------------------------\u001b[0m",
      "\u001b[0;31mNameError\u001b[0m                                 Traceback (most recent call last)",
      "\u001b[1;32m/home/gabor/Documents/GitHub/Cloud-Development-2023/swimming/Chart.ipynb Cell 28\u001b[0m line \u001b[0;36m1\n\u001b[0;32m----> <a href='vscode-notebook-cell:/home/gabor/Documents/GitHub/Cloud-Development-2023/swimming/Chart.ipynb#X36sZmlsZQ%3D%3D?line=0'>1</a>\u001b[0m name, age, distance, stroke\n",
      "\u001b[0;31mNameError\u001b[0m: name 'name' is not defined"
     ]
    }
   ],
   "source": [
    "name, age, distance, stroke"
   ]
  },
  {
   "cell_type": "code",
   "execution_count": 29,
   "metadata": {},
   "outputs": [
    {
     "ename": "NameError",
     "evalue": "name 'average' is not defined",
     "output_type": "error",
     "traceback": [
      "\u001b[0;31m---------------------------------------------------------------------------\u001b[0m",
      "\u001b[0;31mNameError\u001b[0m                                 Traceback (most recent call last)",
      "\u001b[1;32m/home/gabor/Documents/GitHub/Cloud-Development-2023/swimming/Chart.ipynb Cell 29\u001b[0m line \u001b[0;36m1\n\u001b[0;32m----> <a href='vscode-notebook-cell:/home/gabor/Documents/GitHub/Cloud-Development-2023/swimming/Chart.ipynb#X40sZmlsZQ%3D%3D?line=0'>1</a>\u001b[0m average\n",
      "\u001b[0;31mNameError\u001b[0m: name 'average' is not defined"
     ]
    }
   ],
   "source": [
    "average"
   ]
  },
  {
   "cell_type": "code",
   "execution_count": null,
   "metadata": {},
   "outputs": [],
   "source": []
  }
 ],
 "metadata": {
  "kernelspec": {
   "display_name": "Python 3",
   "language": "python",
   "name": "python3"
  },
  "language_info": {
   "codemirror_mode": {
    "name": "ipython",
    "version": 3
   },
   "file_extension": ".py",
   "mimetype": "text/x-python",
   "name": "python",
   "nbconvert_exporter": "python",
   "pygments_lexer": "ipython3",
   "version": "3.11.2"
  },
  "orig_nbformat": 4
 },
 "nbformat": 4,
 "nbformat_minor": 2
}
